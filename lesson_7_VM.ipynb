{
 "cells": [
  {
   "cell_type": "code",
   "execution_count": 1,
   "metadata": {},
   "outputs": [],
   "source": [
    "import numpy as np"
   ]
  },
  {
   "cell_type": "markdown",
   "metadata": {},
   "source": [
    "5.1.\n",
    "Вектор – это частный случай матрицы 1хN и Nх1. Повторите материал для векторов, уделяя особое внимание умножению A∙B."
   ]
  },
  {
   "cell_type": "code",
   "execution_count": 25,
   "metadata": {},
   "outputs": [
    {
     "name": "stdout",
     "output_type": "stream",
     "text": [
      "[ 0  1  2  3  4  5  6  7  8  9 10 11]\n"
     ]
    }
   ],
   "source": [
    "a = np.arange(0, 12)\n",
    "print(a)"
   ]
  },
  {
   "cell_type": "code",
   "execution_count": 27,
   "metadata": {},
   "outputs": [
    {
     "name": "stdout",
     "output_type": "stream",
     "text": [
      "[[ 0]\n",
      " [ 1]\n",
      " [ 2]\n",
      " [ 3]\n",
      " [ 4]\n",
      " [ 5]\n",
      " [ 6]\n",
      " [ 7]\n",
      " [ 8]\n",
      " [ 9]\n",
      " [10]\n",
      " [11]]\n"
     ]
    }
   ],
   "source": [
    "a1 = a.reshape(12, 1)\n",
    "print(a1)"
   ]
  },
  {
   "cell_type": "code",
   "execution_count": 33,
   "metadata": {},
   "outputs": [
    {
     "name": "stdout",
     "output_type": "stream",
     "text": [
      "[[ 0  1  2  3  4  5  6  7  8  9 10 11]]\n"
     ]
    }
   ],
   "source": [
    "a2 = a1.T\n",
    "print(a2)"
   ]
  },
  {
   "cell_type": "code",
   "execution_count": 35,
   "metadata": {},
   "outputs": [
    {
     "name": "stdout",
     "output_type": "stream",
     "text": [
      "(12, 1)\n",
      "(1, 12)\n"
     ]
    }
   ],
   "source": [
    "print(a1.shape)\n",
    "print(a2.shape)"
   ]
  },
  {
   "cell_type": "code",
   "execution_count": 44,
   "metadata": {},
   "outputs": [
    {
     "name": "stdout",
     "output_type": "stream",
     "text": [
      "[[ 0  1  2  3  4  5  6  7  8  9 10 11]\n",
      " [ 1  2  3  4  5  6  7  8  9 10 11 12]\n",
      " [ 2  3  4  5  6  7  8  9 10 11 12 13]\n",
      " [ 3  4  5  6  7  8  9 10 11 12 13 14]\n",
      " [ 4  5  6  7  8  9 10 11 12 13 14 15]\n",
      " [ 5  6  7  8  9 10 11 12 13 14 15 16]\n",
      " [ 6  7  8  9 10 11 12 13 14 15 16 17]\n",
      " [ 7  8  9 10 11 12 13 14 15 16 17 18]\n",
      " [ 8  9 10 11 12 13 14 15 16 17 18 19]\n",
      " [ 9 10 11 12 13 14 15 16 17 18 19 20]\n",
      " [10 11 12 13 14 15 16 17 18 19 20 21]\n",
      " [11 12 13 14 15 16 17 18 19 20 21 22]]\n"
     ]
    }
   ],
   "source": [
    "c = np.add(a1, a2)\n",
    "print(c)"
   ]
  },
  {
   "cell_type": "code",
   "execution_count": 48,
   "metadata": {},
   "outputs": [
    {
     "name": "stdout",
     "output_type": "stream",
     "text": [
      "[[ 0  1  2  3  4  5  6  7  8  9 10 11]\n",
      " [ 1  2  3  4  5  6  7  8  9 10 11 12]\n",
      " [ 2  3  4  5  6  7  8  9 10 11 12 13]\n",
      " [ 3  4  5  6  7  8  9 10 11 12 13 14]\n",
      " [ 4  5  6  7  8  9 10 11 12 13 14 15]\n",
      " [ 5  6  7  8  9 10 11 12 13 14 15 16]\n",
      " [ 6  7  8  9 10 11 12 13 14 15 16 17]\n",
      " [ 7  8  9 10 11 12 13 14 15 16 17 18]\n",
      " [ 8  9 10 11 12 13 14 15 16 17 18 19]\n",
      " [ 9 10 11 12 13 14 15 16 17 18 19 20]\n",
      " [10 11 12 13 14 15 16 17 18 19 20 21]\n",
      " [11 12 13 14 15 16 17 18 19 20 21 22]]\n"
     ]
    }
   ],
   "source": [
    "c1 = np.add(a2, a1)\n",
    "print(c1)"
   ]
  },
  {
   "cell_type": "code",
   "execution_count": 49,
   "metadata": {},
   "outputs": [
    {
     "name": "stdout",
     "output_type": "stream",
     "text": [
      "[[  0  -1  -2  -3  -4  -5  -6  -7  -8  -9 -10 -11]\n",
      " [  1   0  -1  -2  -3  -4  -5  -6  -7  -8  -9 -10]\n",
      " [  2   1   0  -1  -2  -3  -4  -5  -6  -7  -8  -9]\n",
      " [  3   2   1   0  -1  -2  -3  -4  -5  -6  -7  -8]\n",
      " [  4   3   2   1   0  -1  -2  -3  -4  -5  -6  -7]\n",
      " [  5   4   3   2   1   0  -1  -2  -3  -4  -5  -6]\n",
      " [  6   5   4   3   2   1   0  -1  -2  -3  -4  -5]\n",
      " [  7   6   5   4   3   2   1   0  -1  -2  -3  -4]\n",
      " [  8   7   6   5   4   3   2   1   0  -1  -2  -3]\n",
      " [  9   8   7   6   5   4   3   2   1   0  -1  -2]\n",
      " [ 10   9   8   7   6   5   4   3   2   1   0  -1]\n",
      " [ 11  10   9   8   7   6   5   4   3   2   1   0]]\n"
     ]
    }
   ],
   "source": [
    "c2 = np.subtract(a1, a2)\n",
    "print(c2)"
   ]
  },
  {
   "cell_type": "code",
   "execution_count": 50,
   "metadata": {},
   "outputs": [
    {
     "name": "stdout",
     "output_type": "stream",
     "text": [
      "[[  0   1   2   3   4   5   6   7   8   9  10  11]\n",
      " [ -1   0   1   2   3   4   5   6   7   8   9  10]\n",
      " [ -2  -1   0   1   2   3   4   5   6   7   8   9]\n",
      " [ -3  -2  -1   0   1   2   3   4   5   6   7   8]\n",
      " [ -4  -3  -2  -1   0   1   2   3   4   5   6   7]\n",
      " [ -5  -4  -3  -2  -1   0   1   2   3   4   5   6]\n",
      " [ -6  -5  -4  -3  -2  -1   0   1   2   3   4   5]\n",
      " [ -7  -6  -5  -4  -3  -2  -1   0   1   2   3   4]\n",
      " [ -8  -7  -6  -5  -4  -3  -2  -1   0   1   2   3]\n",
      " [ -9  -8  -7  -6  -5  -4  -3  -2  -1   0   1   2]\n",
      " [-10  -9  -8  -7  -6  -5  -4  -3  -2  -1   0   1]\n",
      " [-11 -10  -9  -8  -7  -6  -5  -4  -3  -2  -1   0]]\n"
     ]
    }
   ],
   "source": [
    "c3 = np.subtract(a2, a1)\n",
    "print(c3)"
   ]
  },
  {
   "cell_type": "code",
   "execution_count": 51,
   "metadata": {},
   "outputs": [
    {
     "name": "stdout",
     "output_type": "stream",
     "text": [
      "[[  0   0   0   0   0   0   0   0   0   0   0   0]\n",
      " [  0   1   2   3   4   5   6   7   8   9  10  11]\n",
      " [  0   2   4   6   8  10  12  14  16  18  20  22]\n",
      " [  0   3   6   9  12  15  18  21  24  27  30  33]\n",
      " [  0   4   8  12  16  20  24  28  32  36  40  44]\n",
      " [  0   5  10  15  20  25  30  35  40  45  50  55]\n",
      " [  0   6  12  18  24  30  36  42  48  54  60  66]\n",
      " [  0   7  14  21  28  35  42  49  56  63  70  77]\n",
      " [  0   8  16  24  32  40  48  56  64  72  80  88]\n",
      " [  0   9  18  27  36  45  54  63  72  81  90  99]\n",
      " [  0  10  20  30  40  50  60  70  80  90 100 110]\n",
      " [  0  11  22  33  44  55  66  77  88  99 110 121]]\n"
     ]
    }
   ],
   "source": [
    "c4 = np.dot(a1, a2)\n",
    "print(c4)"
   ]
  },
  {
   "cell_type": "code",
   "execution_count": 52,
   "metadata": {},
   "outputs": [
    {
     "name": "stdout",
     "output_type": "stream",
     "text": [
      "[[506]]\n"
     ]
    }
   ],
   "source": [
    "c5 = np.dot(a2, a1)\n",
    "print(c5)"
   ]
  },
  {
   "cell_type": "markdown",
   "metadata": {},
   "source": [
    "Вычислите, по возможности не используя программирование: (5Е)–1, где Е – единичная матрица размера 5х5.\n",
    "E = 1/5"
   ]
  },
  {
   "cell_type": "markdown",
   "metadata": {},
   "source": [
    "5.2.\n",
    "Вычислите определитель:\n"
   ]
  },
  {
   "cell_type": "code",
   "execution_count": 61,
   "metadata": {},
   "outputs": [
    {
     "name": "stdout",
     "output_type": "stream",
     "text": [
      "[[1. 2. 3.]\n",
      " [4. 0. 6.]\n",
      " [7. 8. 9.]]\n"
     ]
    }
   ],
   "source": [
    "a = np.array([[1, 2, 3], [4, 0, 6], [7, 8, 9]], float)\n",
    "print(a)"
   ]
  },
  {
   "cell_type": "code",
   "execution_count": 55,
   "metadata": {},
   "outputs": [
    {
     "name": "stdout",
     "output_type": "stream",
     "text": [
      "59.999999999999986\n"
     ]
    }
   ],
   "source": [
    "det1 = np.linalg.det(a)\n",
    "print(det1)"
   ]
  },
  {
   "cell_type": "code",
   "execution_count": 56,
   "metadata": {},
   "outputs": [
    {
     "name": "stdout",
     "output_type": "stream",
     "text": [
      "60\n"
     ]
    }
   ],
   "source": [
    "det2 = (1*(0*9 - 6*8) - 2*(4*9 - 6*7) + 3*(4*8 - 0*7))\n",
    "print(det2)"
   ]
  },
  {
   "cell_type": "markdown",
   "metadata": {},
   "source": [
    "5.3 - 1. Вычислите матрицу, обратную данной:"
   ]
  },
  {
   "cell_type": "code",
   "execution_count": 62,
   "metadata": {},
   "outputs": [
    {
     "name": "stdout",
     "output_type": "stream",
     "text": [
      "[[1 2 3]\n",
      " [4 0 6]\n",
      " [7 8 9]]\n"
     ]
    }
   ],
   "source": [
    "a = np.array([[1, 2, 3], [4, 0, 6], [7, 8, 9]])\n",
    "print(a)"
   ]
  },
  {
   "cell_type": "code",
   "execution_count": 64,
   "metadata": {},
   "outputs": [
    {
     "name": "stdout",
     "output_type": "stream",
     "text": [
      "[[-0.8         0.1         0.2       ]\n",
      " [ 0.1        -0.2         0.1       ]\n",
      " [ 0.53333333  0.1        -0.13333333]]\n"
     ]
    }
   ],
   "source": [
    "a_inv = np.linalg.inv(a)\n",
    "print(a_inv)"
   ]
  },
  {
   "cell_type": "markdown",
   "metadata": {},
   "source": [
    "2. Приведите пример матрицы 4х4, ранг которой равен 1."
   ]
  },
  {
   "cell_type": "markdown",
   "metadata": {},
   "source": [
    "Матрица размера 4х4, ранг которой будет равен 1, будет состоять из чисел в строках которй все элементы будут равны, а11 = а12 = \n",
    "а13 = а14, а элементы следующих строк будут отличать ся на 1. а21 = а11+1, а22 = а12 +1, а23 = а13+1, а24 = а14+1;\n",
    "а31 = а21+1, а32 = а22+1, а33 = а23+1, а34 = а24 +1; а41 = а31+1, а42 = а32+1, а43 = а33 +1, а44 = а34+1;"
   ]
  },
  {
   "cell_type": "code",
   "execution_count": 82,
   "metadata": {},
   "outputs": [
    {
     "name": "stdout",
     "output_type": "stream",
     "text": [
      "[[1 1 1 1]\n",
      " [2 2 2 2]\n",
      " [3 3 3 3]\n",
      " [4 4 4 4]]\n",
      "[[2 2 2 2]\n",
      " [3 3 3 3]\n",
      " [4 4 4 4]\n",
      " [5 5 5 5]]\n",
      "[[3 3 3 3]\n",
      " [4 4 4 4]\n",
      " [5 5 5 5]\n",
      " [6 6 6 6]]\n"
     ]
    }
   ],
   "source": [
    "a = np.array([[1,1,1,1], [2,2,2,2], [3,3,3,3], [4,4,4,4]])\n",
    "b = np.array([[2,2,2,2], [3,3,3,3], [4,4,4,4], [5,5,5,5]])\n",
    "c = np.array([[3,3,3,3], [4,4,4,4], [5,5,5,5], [6,6,6,6]])\n",
    "print(a);\n",
    "print(b);\n",
    "print(c)"
   ]
  },
  {
   "cell_type": "markdown",
   "metadata": {},
   "source": [
    "5.4. Вычислите скалярное произведение двух векторов:  (1, 5)  и  (2, 8)"
   ]
  },
  {
   "cell_type": "code",
   "execution_count": 67,
   "metadata": {},
   "outputs": [
    {
     "name": "stdout",
     "output_type": "stream",
     "text": [
      "[1 5]\n",
      "[2 8]\n"
     ]
    }
   ],
   "source": [
    "a = np.array([1, 5])\n",
    "b = np.array([2, 8])\n",
    "print(a)\n",
    "print(b)"
   ]
  },
  {
   "cell_type": "code",
   "execution_count": 77,
   "metadata": {},
   "outputs": [
    {
     "data": {
      "text/plain": [
       "0.7614996105085897"
      ]
     },
     "execution_count": 77,
     "metadata": {},
     "output_type": "execute_result"
    }
   ],
   "source": [
    "s = np.inner(a, b)\n",
    "s/(np.linalg.norm(a)*np.linalg.norm(b))"
   ]
  },
  {
   "cell_type": "markdown",
   "metadata": {},
   "source": [
    "5.5 Вычислите смешанное произведение трех векторов: (1, 5, 0), (2, 8, 7) и (7, 1.5, 3) "
   ]
  },
  {
   "cell_type": "code",
   "execution_count": 75,
   "metadata": {},
   "outputs": [
    {
     "name": "stdout",
     "output_type": "stream",
     "text": [
      "[1. 5. 0.]\n",
      "[2. 8. 7.]\n",
      "[7.  1.5 3. ]\n"
     ]
    }
   ],
   "source": [
    "a = np.array([1, 5, 0], float)\n",
    "b = np.array([2, 8, 7], float)\n",
    "c = np.array([7, 1.5, 3])\n",
    "\n",
    "print(a)\n",
    "print(b)\n",
    "print(c)"
   ]
  },
  {
   "cell_type": "code",
   "execution_count": 76,
   "metadata": {},
   "outputs": [
    {
     "name": "stdout",
     "output_type": "stream",
     "text": [
      "228.5\n",
      "228.5\n"
     ]
    }
   ],
   "source": [
    "v = np.cross(a, b)\n",
    "print (np.inner(v, c))\n",
    "w = np.cross(b, c)\n",
    "print (np.inner(w, a))"
   ]
  },
  {
   "cell_type": "code",
   "execution_count": null,
   "metadata": {},
   "outputs": [],
   "source": []
  }
 ],
 "metadata": {
  "kernelspec": {
   "display_name": "Python 3",
   "language": "python",
   "name": "python3"
  },
  "language_info": {
   "codemirror_mode": {
    "name": "ipython",
    "version": 3
   },
   "file_extension": ".py",
   "mimetype": "text/x-python",
   "name": "python",
   "nbconvert_exporter": "python",
   "pygments_lexer": "ipython3",
   "version": "3.7.4"
  }
 },
 "nbformat": 4,
 "nbformat_minor": 2
}
