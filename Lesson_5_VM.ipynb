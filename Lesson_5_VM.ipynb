{
 "cells": [
  {
   "cell_type": "markdown",
   "metadata": {},
   "source": [
    "Напишите код, моделирующий выпадение поля в рулетке (с учетом поля зеро)."
   ]
  },
  {
   "cell_type": "code",
   "execution_count": 1,
   "metadata": {},
   "outputs": [],
   "source": [
    "import numpy as np\n",
    "import matplotlib.pyplot as plt\n",
    "import matplotlib.mlab as mlab"
   ]
  },
  {
   "cell_type": "code",
   "execution_count": 2,
   "metadata": {},
   "outputs": [
    {
     "name": "stdout",
     "output_type": "stream",
     "text": [
      "Ваша ставка:  15\n",
      "Ваша ставка не сыграла\n",
      "Ваша ставка не сыграла\n",
      "Ваша ставка не сыграла\n",
      "Ваша ставка не сыграла\n",
      "Ваша ставка не сыграла\n",
      "Ваша ставка не сыграла\n",
      "Ваша ставка не сыграла\n",
      "Ваша ставка не сыграла\n",
      "Ваша ставка не сыграла\n",
      "Ваша ставка не сыграла\n",
      "Ваша ставка не сыграла\n",
      "Ваша ставка не сыграла\n",
      "Ваша ставка не сыграла\n",
      "Ваш ставка 28 выиграла\n"
     ]
    }
   ],
   "source": [
    "number = int(input('Ваша ставка:  '))\n",
    "win_number = np.random.randint(0, 36)\n",
    "while number != win_number:\n",
    "    print(f'Ваша ставка не сыграла')\n",
    "    number = number + 1    \n",
    "print(f'Ваш ставка {number} выиграла') "
   ]
  },
  {
   "cell_type": "markdown",
   "metadata": {},
   "source": [
    "Напишите код, проверяющий любую из теорем сложения или умножения вероятности на примере рулетки или подбрасывания монетки."
   ]
  },
  {
   "cell_type": "code",
   "execution_count": 3,
   "metadata": {},
   "outputs": [
    {
     "name": "stdout",
     "output_type": "stream",
     "text": [
      "53 47\n",
      "100 100\n"
     ]
    }
   ],
   "source": [
    "k,m = 0, 0\n",
    "n = 100\n",
    "for i in range(0, n):\n",
    "    x = np.random.uniform(0, 10)\n",
    "    if x<5:\n",
    "        k = k + 1\n",
    "    else:\n",
    "        m = m + 1\n",
    "p = k+m\n",
    "print(k,m)\n",
    "print(k+m, p)"
   ]
  },
  {
   "cell_type": "markdown",
   "metadata": {},
   "source": [
    "Сгенерируйте десять выборок случайных чисел х0, …, х9.\n",
    "и постройте гистограмму распределения случайной суммы х0+х1+ …+ х9."
   ]
  },
  {
   "cell_type": "code",
   "execution_count": 4,
   "metadata": {},
   "outputs": [
    {
     "data": {
      "text/plain": [
       "[9.247263782017493,\n",
       " 6.232953893803274,\n",
       " 7.426295394064963,\n",
       " 7.772696365319044,\n",
       " 6.690264830578003,\n",
       " 7.199413112145902,\n",
       " 8.317247770972152,\n",
       " 7.307157543786188,\n",
       " 5.204972637498055,\n",
       " 7.0730742145613235]"
      ]
     },
     "execution_count": 4,
     "metadata": {},
     "output_type": "execute_result"
    }
   ],
   "source": [
    "x = [np.random.rand(15).sum() for i in range(10)]\n",
    "x"
   ]
  },
  {
   "cell_type": "code",
   "execution_count": 5,
   "metadata": {},
   "outputs": [
    {
     "data": {
      "text/plain": [
       "Text(0.5, 1.0, 'Histogram')"
      ]
     },
     "execution_count": 5,
     "metadata": {},
     "output_type": "execute_result"
    },
    {
     "data": {
      "image/png": "[encoded data removed]",
      "text/plain": [
       "<Figure size 432x288 with 1 Axes>"
      ]
     },
     "metadata": {
      "needs_background": "light"
     },
     "output_type": "display_data"
    }
   ],
   "source": [
    "bins = 5\n",
    "plt.hist(x, bins)\n",
    "plt.xlabel('x')\n",
    "plt.ylabel('Probability')\n",
    "plt.title('Histogram')"
   ]
  },
  {
   "cell_type": "markdown",
   "metadata": {},
   "source": [
    "Дополните код Монте-Карло последовательности независимых испытаний расчетом соответствующих вероятностей (через биномиальное распределение) \n",
    "и сравните результаты."
   ]
  },
  {
   "cell_type": "code",
   "execution_count": 42,
   "metadata": {},
   "outputs": [
    {
     "name": "stdout",
     "output_type": "stream",
     "text": [
      "0.3739\n"
     ]
    }
   ],
   "source": [
    "k, n = 0, 10000\n",
    "a = np.random.randint(0, 2, n)\n",
    "b = np.random.randint(0, 2, n)\n",
    "c = np.random.randint(0, 2, n)\n",
    "d = np.random.randint(0, 2, n)\n",
    "x = a + b + c + d\n",
    "for i in range(n):\n",
    "    if x[i] == 2:\n",
    "        k = k + 1\n",
    "print(k / n)"
   ]
  },
  {
   "cell_type": "code",
   "execution_count": 41,
   "metadata": {},
   "outputs": [
    {
     "data": {
      "text/plain": [
       "0.375"
      ]
     },
     "execution_count": 41,
     "metadata": {},
     "output_type": "execute_result"
    }
   ],
   "source": [
    "n = 4\n",
    "k = 2\n",
    "C = np.math.factorial(n) / (np.math.factorial(k) * np.math.factorial(n - k))\n",
    "C / pow(2, n)"
   ]
  },
  {
   "cell_type": "markdown",
   "metadata": {},
   "source": [
    "Повторите расчеты биномиальных коэффициентов и вероятностей k успехов в последовательности из n независимых испытаний, взяв другие значения n и k."
   ]
  },
  {
   "cell_type": "code",
   "execution_count": 39,
   "metadata": {},
   "outputs": [
    {
     "data": {
      "text/plain": [
       "0.25"
      ]
     },
     "execution_count": 39,
     "metadata": {},
     "output_type": "execute_result"
    }
   ],
   "source": [
    "n = 4\n",
    "k = 3\n",
    "C = np.math.factorial(n) / (np.math.factorial(k) * np.math.factorial(n - k))\n",
    "C / pow(2, n)"
   ]
  },
  {
   "cell_type": "code",
   "execution_count": 38,
   "metadata": {},
   "outputs": [
    {
     "data": {
      "text/plain": [
       "0.1640625"
      ]
     },
     "execution_count": 38,
     "metadata": {},
     "output_type": "execute_result"
    }
   ],
   "source": [
    "n = 7\n",
    "k = 2\n",
    "C = np.math.factorial(n) / (np.math.factorial(k) * np.math.factorial(n - k))\n",
    "C / pow(2, n)"
   ]
  },
  {
   "cell_type": "markdown",
   "metadata": {},
   "source": [
    "Из урока по комбинаторике повторите расчеты, сгенерировав возможные варианты перестановок для других значений n и k\n"
   ]
  },
  {
   "cell_type": "code",
   "execution_count": 17,
   "metadata": {},
   "outputs": [],
   "source": [
    "import itertools"
   ]
  },
  {
   "cell_type": "code",
   "execution_count": 27,
   "metadata": {},
   "outputs": [
    {
     "name": "stdout",
     "output_type": "stream",
     "text": [
      "012\n",
      "013\n",
      "014\n",
      "015\n",
      "021\n",
      "023\n",
      "024\n",
      "025\n",
      "031\n",
      "032\n",
      "034\n",
      "035\n",
      "041\n",
      "042\n",
      "043\n",
      "045\n",
      "051\n",
      "052\n",
      "053\n",
      "054\n",
      "102\n",
      "103\n",
      "104\n",
      "105\n",
      "120\n",
      "123\n",
      "124\n",
      "125\n",
      "130\n",
      "132\n",
      "134\n",
      "135\n",
      "140\n",
      "142\n",
      "143\n",
      "145\n",
      "150\n",
      "152\n",
      "153\n",
      "154\n",
      "201\n",
      "203\n",
      "204\n",
      "205\n",
      "210\n",
      "213\n",
      "214\n",
      "215\n",
      "230\n",
      "231\n",
      "234\n",
      "235\n",
      "240\n",
      "241\n",
      "243\n",
      "245\n",
      "250\n",
      "251\n",
      "253\n",
      "254\n",
      "301\n",
      "302\n",
      "304\n",
      "305\n",
      "310\n",
      "312\n",
      "314\n",
      "315\n",
      "320\n",
      "321\n",
      "324\n",
      "325\n",
      "340\n",
      "341\n",
      "342\n",
      "345\n",
      "350\n",
      "351\n",
      "352\n",
      "354\n",
      "401\n",
      "402\n",
      "403\n",
      "405\n",
      "410\n",
      "412\n",
      "413\n",
      "415\n",
      "420\n",
      "421\n",
      "423\n",
      "425\n",
      "430\n",
      "431\n",
      "432\n",
      "435\n",
      "450\n",
      "451\n",
      "452\n",
      "453\n",
      "501\n",
      "502\n",
      "503\n",
      "504\n",
      "510\n",
      "512\n",
      "513\n",
      "514\n",
      "520\n",
      "521\n",
      "523\n",
      "524\n",
      "530\n",
      "531\n",
      "532\n",
      "534\n",
      "540\n",
      "541\n",
      "542\n",
      "543\n",
      "120\n"
     ]
    }
   ],
   "source": [
    "for p in itertools.permutations(\"012345\",3):\n",
    "    print(''.join(str(x) for x in p))\n",
    "print(len(list(itertools.permutations(\"012345\",3))))"
   ]
  },
  {
   "cell_type": "code",
   "execution_count": 28,
   "metadata": {},
   "outputs": [
    {
     "name": "stdout",
     "output_type": "stream",
     "text": [
      "0123\n",
      "0124\n",
      "0125\n",
      "0132\n",
      "0134\n",
      "0135\n",
      "0142\n",
      "0143\n",
      "0145\n",
      "0152\n",
      "0153\n",
      "0154\n",
      "0213\n",
      "0214\n",
      "0215\n",
      "0231\n",
      "0234\n",
      "0235\n",
      "0241\n",
      "0243\n",
      "0245\n",
      "0251\n",
      "0253\n",
      "0254\n",
      "0312\n",
      "0314\n",
      "0315\n",
      "0321\n",
      "0324\n",
      "0325\n",
      "0341\n",
      "0342\n",
      "0345\n",
      "0351\n",
      "0352\n",
      "0354\n",
      "0412\n",
      "0413\n",
      "0415\n",
      "0421\n",
      "0423\n",
      "0425\n",
      "0431\n",
      "0432\n",
      "0435\n",
      "0451\n",
      "0452\n",
      "0453\n",
      "0512\n",
      "0513\n",
      "0514\n",
      "0521\n",
      "0523\n",
      "0524\n",
      "0531\n",
      "0532\n",
      "0534\n",
      "0541\n",
      "0542\n",
      "0543\n",
      "1023\n",
      "1024\n",
      "1025\n",
      "1032\n",
      "1034\n",
      "1035\n",
      "1042\n",
      "1043\n",
      "1045\n",
      "1052\n",
      "1053\n",
      "1054\n",
      "1203\n",
      "1204\n",
      "1205\n",
      "1230\n",
      "1234\n",
      "1235\n",
      "1240\n",
      "1243\n",
      "1245\n",
      "1250\n",
      "1253\n",
      "1254\n",
      "1302\n",
      "1304\n",
      "1305\n",
      "1320\n",
      "1324\n",
      "1325\n",
      "1340\n",
      "1342\n",
      "1345\n",
      "1350\n",
      "1352\n",
      "1354\n",
      "1402\n",
      "1403\n",
      "1405\n",
      "1420\n",
      "1423\n",
      "1425\n",
      "1430\n",
      "1432\n",
      "1435\n",
      "1450\n",
      "1452\n",
      "1453\n",
      "1502\n",
      "1503\n",
      "1504\n",
      "1520\n",
      "1523\n",
      "1524\n",
      "1530\n",
      "1532\n",
      "1534\n",
      "1540\n",
      "1542\n",
      "1543\n",
      "2013\n",
      "2014\n",
      "2015\n",
      "2031\n",
      "2034\n",
      "2035\n",
      "2041\n",
      "2043\n",
      "2045\n",
      "2051\n",
      "2053\n",
      "2054\n",
      "2103\n",
      "2104\n",
      "2105\n",
      "2130\n",
      "2134\n",
      "2135\n",
      "2140\n",
      "2143\n",
      "2145\n",
      "2150\n",
      "2153\n",
      "2154\n",
      "2301\n",
      "2304\n",
      "2305\n",
      "2310\n",
      "2314\n",
      "2315\n",
      "2340\n",
      "2341\n",
      "2345\n",
      "2350\n",
      "2351\n",
      "2354\n",
      "2401\n",
      "2403\n",
      "2405\n",
      "2410\n",
      "2413\n",
      "2415\n",
      "2430\n",
      "2431\n",
      "2435\n",
      "2450\n",
      "2451\n",
      "2453\n",
      "2501\n",
      "2503\n",
      "2504\n",
      "2510\n",
      "2513\n",
      "2514\n",
      "2530\n",
      "2531\n",
      "2534\n",
      "2540\n",
      "2541\n",
      "2543\n",
      "3012\n",
      "3014\n",
      "3015\n",
      "3021\n",
      "3024\n",
      "3025\n",
      "3041\n",
      "3042\n",
      "3045\n",
      "3051\n",
      "3052\n",
      "3054\n",
      "3102\n",
      "3104\n",
      "3105\n",
      "3120\n",
      "3124\n",
      "3125\n",
      "3140\n",
      "3142\n",
      "3145\n",
      "3150\n",
      "3152\n",
      "3154\n",
      "3201\n",
      "3204\n",
      "3205\n",
      "3210\n",
      "3214\n",
      "3215\n",
      "3240\n",
      "3241\n",
      "3245\n",
      "3250\n",
      "3251\n",
      "3254\n",
      "3401\n",
      "3402\n",
      "3405\n",
      "3410\n",
      "3412\n",
      "3415\n",
      "3420\n",
      "3421\n",
      "3425\n",
      "3450\n",
      "3451\n",
      "3452\n",
      "3501\n",
      "3502\n",
      "3504\n",
      "3510\n",
      "3512\n",
      "3514\n",
      "3520\n",
      "3521\n",
      "3524\n",
      "3540\n",
      "3541\n",
      "3542\n",
      "4012\n",
      "4013\n",
      "4015\n",
      "4021\n",
      "4023\n",
      "4025\n",
      "4031\n",
      "4032\n",
      "4035\n",
      "4051\n",
      "4052\n",
      "4053\n",
      "4102\n",
      "4103\n",
      "4105\n",
      "4120\n",
      "4123\n",
      "4125\n",
      "4130\n",
      "4132\n",
      "4135\n",
      "4150\n",
      "4152\n",
      "4153\n",
      "4201\n",
      "4203\n",
      "4205\n",
      "4210\n",
      "4213\n",
      "4215\n",
      "4230\n",
      "4231\n",
      "4235\n",
      "4250\n",
      "4251\n",
      "4253\n",
      "4301\n",
      "4302\n",
      "4305\n",
      "4310\n",
      "4312\n",
      "4315\n",
      "4320\n",
      "4321\n",
      "4325\n",
      "4350\n",
      "4351\n",
      "4352\n",
      "4501\n",
      "4502\n",
      "4503\n",
      "4510\n",
      "4512\n",
      "4513\n",
      "4520\n",
      "4521\n",
      "4523\n",
      "4530\n",
      "4531\n",
      "4532\n",
      "5012\n",
      "5013\n",
      "5014\n",
      "5021\n",
      "5023\n",
      "5024\n",
      "5031\n",
      "5032\n",
      "5034\n",
      "5041\n",
      "5042\n",
      "5043\n",
      "5102\n",
      "5103\n",
      "5104\n",
      "5120\n",
      "5123\n",
      "5124\n",
      "5130\n",
      "5132\n",
      "5134\n",
      "5140\n",
      "5142\n",
      "5143\n",
      "5201\n",
      "5203\n",
      "5204\n",
      "5210\n",
      "5213\n",
      "5214\n",
      "5230\n",
      "5231\n",
      "5234\n",
      "5240\n",
      "5241\n",
      "5243\n",
      "5301\n",
      "5302\n",
      "5304\n",
      "5310\n",
      "5312\n",
      "5314\n",
      "5320\n",
      "5321\n",
      "5324\n",
      "5340\n",
      "5341\n",
      "5342\n",
      "5401\n",
      "5402\n",
      "5403\n",
      "5410\n",
      "5412\n",
      "5413\n",
      "5420\n",
      "5421\n",
      "5423\n",
      "5430\n",
      "5431\n",
      "5432\n",
      "360\n"
     ]
    }
   ],
   "source": [
    "for p in itertools.permutations(\"012345\",4):\n",
    "    print(''.join(str(x) for x in p))\n",
    "print(len(list(itertools.permutations(\"012345\",4))))"
   ]
  },
  {
   "cell_type": "code",
   "execution_count": 29,
   "metadata": {},
   "outputs": [
    {
     "name": "stdout",
     "output_type": "stream",
     "text": [
      "012\n",
      "013\n",
      "014\n",
      "015\n",
      "023\n",
      "024\n",
      "025\n",
      "034\n",
      "035\n",
      "045\n",
      "123\n",
      "124\n",
      "125\n",
      "134\n",
      "135\n",
      "145\n",
      "234\n",
      "235\n",
      "245\n",
      "345\n",
      "20\n"
     ]
    }
   ],
   "source": [
    "for p in itertools.combinations(\"012345\",3):\n",
    "    print(''.join(p))\n",
    "print(len(list(itertools.combinations(\"012345\",3))))\n"
   ]
  },
  {
   "cell_type": "code",
   "execution_count": 30,
   "metadata": {},
   "outputs": [
    {
     "name": "stdout",
     "output_type": "stream",
     "text": [
      "0123\n",
      "0124\n",
      "0125\n",
      "0134\n",
      "0135\n",
      "0145\n",
      "0234\n",
      "0235\n",
      "0245\n",
      "0345\n",
      "1234\n",
      "1235\n",
      "1245\n",
      "1345\n",
      "2345\n",
      "15\n"
     ]
    }
   ],
   "source": [
    "for p in itertools.combinations(\"012345\",4):\n",
    "    print(''.join(p))\n",
    "print(len(list(itertools.combinations(\"012345\",4))))"
   ]
  },
  {
   "cell_type": "markdown",
   "metadata": {},
   "source": [
    "5. Дополните код расчетом коэффициента корреляции x и y по формуле"
   ]
  },
  {
   "cell_type": "code",
   "execution_count": 32,
   "metadata": {},
   "outputs": [],
   "source": [
    "import warnings\n",
    "warnings.filterwarnings('ignore')"
   ]
  },
  {
   "cell_type": "code",
   "execution_count": 33,
   "metadata": {},
   "outputs": [
    {
     "name": "stdout",
     "output_type": "stream",
     "text": [
      "0.6771786115314561 0.16030726947088234\n",
      "0.6771786115314574 0.16030726947088178\n"
     ]
    },
    {
     "data": {
      "image/png": "[encoded data removed]",
      "text/plain": [
       "<Figure size 432x288 with 1 Axes>"
      ]
     },
     "metadata": {
      "needs_background": "light"
     },
     "output_type": "display_data"
    }
   ],
   "source": [
    "n = 100\n",
    "r = 0.7\n",
    "x = np.random.rand(n)\n",
    "y = r*x + (1 - r)*np.random.rand(n)\n",
    "plt.plot(x, y, 'o')\n",
    "plt.xlabel('x')\n",
    "plt.ylabel('y')\n",
    "plt.grid(True)\n",
    "\n",
    "a = (np.sum(x)*np.sum(y) - n*np.sum(x*y))/(np.sum(x)*np.sum(x) - n*np.sum(x*x))\n",
    "b = (np.sum(y) - a*np.sum(x))/n\n",
    "\n",
    "A = np.vstack([x, np.ones(len(x))]).T\n",
    "a1, b1 = np.linalg.lstsq(A, y)[0]\n",
    "print(a, b)\n",
    "print(a1, b1)\n",
    "plt.plot([0, 1], [b, a + b])\n",
    "plt.show()"
   ]
  },
  {
   "cell_type": "code",
   "execution_count": 36,
   "metadata": {},
   "outputs": [
    {
     "data": {
      "text/plain": [
       "0.9187242921764341"
      ]
     },
     "execution_count": 36,
     "metadata": {},
     "output_type": "execute_result"
    }
   ],
   "source": [
    "c = np.sum((x - np.mean(x)) * (y - np.mean(y))) / np.sqrt(np.sum(np.square(x - np.mean(x))) * np.sum(np.square(y - np.mean(y))))\n",
    "c"
   ]
  },
  {
   "cell_type": "code",
   "execution_count": null,
   "metadata": {},
   "outputs": [],
   "source": []
  }
 ],
 "metadata": {
  "kernelspec": {
   "display_name": "Python 3",
   "language": "python",
   "name": "python3"
  },
  "language_info": {
   "codemirror_mode": {
    "name": "ipython",
    "version": 3
   },
   "file_extension": ".py",
   "mimetype": "text/x-python",
   "name": "python",
   "nbconvert_exporter": "python",
   "pygments_lexer": "ipython3",
   "version": "3.7.4"
  }
 },
 "nbformat": 4,
 "nbformat_minor": 2
}
